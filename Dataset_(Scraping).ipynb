{
  "nbformat": 4,
  "nbformat_minor": 0,
  "metadata": {
    "colab": {
      "provenance": [],
      "authorship_tag": "ABX9TyNEI3+2iVORJk1oTPYDRMqg",
      "include_colab_link": true
    },
    "kernelspec": {
      "name": "python3",
      "display_name": "Python 3"
    },
    "language_info": {
      "name": "python"
    }
  },
  "cells": [
    {
      "cell_type": "markdown",
      "metadata": {
        "id": "view-in-github",
        "colab_type": "text"
      },
      "source": [
        "<a href=\"https://colab.research.google.com/github/Keith-LJY001/NMC5342_A0234542L/blob/main/Dataset_(Scraping).ipynb\" target=\"_parent\"><img src=\"https://colab.research.google.com/assets/colab-badge.svg\" alt=\"Open In Colab\"/></a>"
      ]
    },
    {
      "cell_type": "code",
      "execution_count": null,
      "metadata": {
        "id": "UrKC_P4dkWAq"
      },
      "outputs": [],
      "source": [
        "#I chose to scrape data from Reddit (1073 comments (raw))\n",
        "#Data scraped from Subreddits concerning immigration from 2020-2025 (Singapore)\n",
        "\n",
        "#imports\n",
        "import requests\n",
        "import pandas as pd\n",
        "import json\n",
        "import csv\n",
        "import time\n",
        "from bs4 import BeautifulSoup"
      ]
    },
    {
      "cell_type": "code",
      "source": [
        "!pip install praw"
      ],
      "metadata": {
        "colab": {
          "base_uri": "https://localhost:8080/"
        },
        "id": "H72AvCfQpw0V",
        "outputId": "bb5a52de-c639-431e-d4b7-086c97f6c1a3"
      },
      "execution_count": null,
      "outputs": [
        {
          "output_type": "stream",
          "name": "stdout",
          "text": [
            "Collecting praw\n",
            "  Downloading praw-7.8.1-py3-none-any.whl.metadata (9.4 kB)\n",
            "Collecting prawcore<3,>=2.4 (from praw)\n",
            "  Downloading prawcore-2.4.0-py3-none-any.whl.metadata (5.0 kB)\n",
            "Collecting update_checker>=0.18 (from praw)\n",
            "  Downloading update_checker-0.18.0-py3-none-any.whl.metadata (2.3 kB)\n",
            "Requirement already satisfied: websocket-client>=0.54.0 in /usr/local/lib/python3.12/dist-packages (from praw) (1.9.0)\n",
            "Requirement already satisfied: requests<3.0,>=2.6.0 in /usr/local/lib/python3.12/dist-packages (from prawcore<3,>=2.4->praw) (2.32.4)\n",
            "Requirement already satisfied: charset_normalizer<4,>=2 in /usr/local/lib/python3.12/dist-packages (from requests<3.0,>=2.6.0->prawcore<3,>=2.4->praw) (3.4.4)\n",
            "Requirement already satisfied: idna<4,>=2.5 in /usr/local/lib/python3.12/dist-packages (from requests<3.0,>=2.6.0->prawcore<3,>=2.4->praw) (3.11)\n",
            "Requirement already satisfied: urllib3<3,>=1.21.1 in /usr/local/lib/python3.12/dist-packages (from requests<3.0,>=2.6.0->prawcore<3,>=2.4->praw) (2.5.0)\n",
            "Requirement already satisfied: certifi>=2017.4.17 in /usr/local/lib/python3.12/dist-packages (from requests<3.0,>=2.6.0->prawcore<3,>=2.4->praw) (2025.10.5)\n",
            "Downloading praw-7.8.1-py3-none-any.whl (189 kB)\n",
            "\u001b[2K   \u001b[90m━━━━━━━━━━━━━━━━━━━━━━━━━━━━━━━━━━━━━━━━\u001b[0m \u001b[32m189.3/189.3 kB\u001b[0m \u001b[31m8.0 MB/s\u001b[0m eta \u001b[36m0:00:00\u001b[0m\n",
            "\u001b[?25hDownloading prawcore-2.4.0-py3-none-any.whl (17 kB)\n",
            "Downloading update_checker-0.18.0-py3-none-any.whl (7.0 kB)\n",
            "Installing collected packages: update_checker, prawcore, praw\n",
            "Successfully installed praw-7.8.1 prawcore-2.4.0 update_checker-0.18.0\n"
          ]
        }
      ]
    },
    {
      "cell_type": "code",
      "source": [
        "# pip install praw\n",
        "import praw\n",
        "import csv\n",
        "\n",
        "#testing one URL and importing to csv\n",
        "POST_URL = \"https://www.reddit.com/r/SingaporeRaw/comments/1erok8i/are_you_feeling_uncomfortable_noticing_a_trend_of/\"\n",
        "\n",
        "#client id and secret have been removed for privacy's sake\n",
        "reddit = praw.Reddit(\n",
        "    client_id=, #hidden\n",
        "    client_secret=, #hidden\n",
        "    user_agent=\"keith-immigration-study:v1.0 (by u/yourusername)\"\n",
        ")\n",
        "reddit.read_only = True\n",
        "\n",
        "#Retrieving post\n",
        "subm = reddit.submission(url=POST_URL)\n",
        "\n",
        "post_row = {\n",
        "    \"id\": subm.id,\n",
        "    \"subreddit\": str(subm.subreddit),\n",
        "    \"title\": subm.title,\n",
        "    \"author\": str(subm.author) if subm.author else None,\n",
        "    \"score\": subm.score,\n",
        "    \"selftext\": subm.selftext,\n",
        "    \"num_comments\": subm.num_comments,\n",
        "    \"created_utc\": subm.created_utc,\n",
        "    \"permalink\": \"https://www.reddit.com\" + subm.permalink\n",
        "}\n",
        "\n",
        "#Scraping all the comments\n",
        "subm.comments.replace_more(limit=0)\n",
        "comments_rows = []\n",
        "for c in subm.comments.list():\n",
        "    comments_rows.append({\n",
        "        \"comment_id\": c.id,\n",
        "        \"parent_id\": c.parent_id,\n",
        "        \"author\": str(c.author) if c.author else None,\n",
        "        \"score\": c.score,\n",
        "        \"created_utc\": c.created_utc,\n",
        "        \"body\": c.body\n",
        "    })\n",
        "\n",
        "#Saving to CSV\n",
        "with open(\"post.csv\", \"w\", newline=\"\", encoding=\"utf-8\") as f:\n",
        "    w = csv.DictWriter(f, fieldnames=post_row.keys()); w.writeheader(); w.writerow(post_row)\n",
        "\n",
        "if comments_rows:\n",
        "    with open(\"comments.csv\", \"w\", newline=\"\", encoding=\"utf-8\") as f:\n",
        "        w = csv.DictWriter(f, fieldnames=comments_rows[0].keys())\n",
        "        w.writeheader(); w.writerows(comments_rows)\n",
        "else:\n",
        "    print(\"No comments found (or fetch blocked).\")\n"
      ],
      "metadata": {
        "colab": {
          "base_uri": "https://localhost:8080/"
        },
        "id": "gMGihETopbHZ",
        "outputId": "0b500080-4381-4d1f-f68c-417d160c34b1"
      },
      "execution_count": null,
      "outputs": [
        {
          "output_type": "stream",
          "name": "stderr",
          "text": [
            "WARNING:praw:It appears that you are using PRAW in an asynchronous environment.\n",
            "It is strongly recommended to use Async PRAW: https://asyncpraw.readthedocs.io.\n",
            "See https://praw.readthedocs.io/en/latest/getting_started/multiple_instances.html#discord-bots-and-asynchronous-environments for more info.\n",
            "\n"
          ]
        }
      ]
    },
    {
      "cell_type": "code",
      "source": [
        "import praw\n",
        "import csv\n",
        "import time\n",
        "\n",
        "#praw setup with my client id and secret\n",
        "#client id and secret have been removed for privacy's sake\n",
        "reddit = praw.Reddit(\n",
        "    client_id=\"0tBiIaijMfAU0c5WlYiaGw\",\n",
        "    client_secret=\"DFlZ8og-ydatsy1Dbtka-hPW01KhVw\",\n",
        "    user_agent=\"keith-immigration-study:v1.0 (by u/yourusername)\"\n",
        ")\n",
        "reddit.read_only = True\n",
        "\n",
        "#3 other reddit threads I am scraping\n",
        "post_urls = [\n",
        "    \"https://www.reddit.com/r/SingaporeRaw/comments/1f7yc6c/opinion_singapores_immigration_is_actually_one_of/\",\n",
        "    \"https://www.reddit.com/r/SingaporeRaw/comments/1ez49pd/how_do_other_singaporeans_feel_about_immigration/\",\n",
        "    \"https://www.reddit.com/r/singapore/comments/1j70rfe/new_citizens_enrich_singapore_invigorate_economy/\",\n",
        "    \"\"\n",
        "]\n",
        "\n",
        "all_posts = []\n",
        "all_comments = []\n",
        "\n",
        "#Loop through the different links\n",
        "for url in post_urls:\n",
        "    try:\n",
        "        subm = reddit.submission(url=url)\n",
        "\n",
        "        # Post metadata\n",
        "        post_row = {\n",
        "            \"id\": subm.id,\n",
        "            \"subreddit\": str(subm.subreddit),\n",
        "            \"title\": subm.title,\n",
        "            \"author\": str(subm.author) if subm.author else None,\n",
        "            \"score\": subm.score,\n",
        "            \"selftext\": subm.selftext,\n",
        "            \"num_comments\": subm.num_comments,\n",
        "            \"created_utc\": subm.created_utc,\n",
        "            \"permalink\": \"https://www.reddit.com\" + subm.permalink\n",
        "        }\n",
        "        all_posts.append(post_row)\n",
        "\n",
        "        #Retrieving comments\n",
        "        subm.comments.replace_more(limit=0)\n",
        "        for c in subm.comments.list():\n",
        "            all_comments.append({\n",
        "                \"post_id\": subm.id,\n",
        "                \"comment_id\": c.id,\n",
        "                \"parent_id\": c.parent_id,\n",
        "                \"author\": str(c.author) if c.author else None,\n",
        "                \"score\": c.score,\n",
        "                \"created_utc\": c.created_utc,\n",
        "                \"body\": c.body\n",
        "            })\n",
        "\n",
        "        print(f\"✅ Scraped post: {subm.title[:60]}... ({len(subm.comments)} comments)\")\n",
        "        time.sleep(2)  # polite delay to avoid rate limiting\n",
        "\n",
        "    except Exception as e:\n",
        "        print(f\"⚠️ Error fetching {url}: {e}\")\n",
        "\n",
        "#Importing to CVs\n",
        "if all_posts:\n",
        "    with open(\"all_posts.csv\", \"w\", newline=\"\", encoding=\"utf-8\") as f:\n",
        "        writer = csv.DictWriter(f, fieldnames=all_posts[0].keys())\n",
        "        writer.writeheader()\n",
        "        writer.writerows(all_posts)\n",
        "\n",
        "if all_comments:\n",
        "    with open(\"all_comments.csv\", \"w\", newline=\"\", encoding=\"utf-8\") as f:\n",
        "        writer = csv.DictWriter(f, fieldnames=all_comments[0].keys())\n",
        "        writer.writeheader()\n",
        "        writer.writerows(all_comments)\n",
        "\n",
        "print(\"Done! Exported all_posts.csv and all_comments.csv\")\n"
      ],
      "metadata": {
        "colab": {
          "base_uri": "https://localhost:8080/"
        },
        "id": "gaMfM6JRuMMV",
        "outputId": "a2b2ac3e-fd2d-4419-8b2e-89764271b053"
      },
      "execution_count": null,
      "outputs": [
        {
          "output_type": "stream",
          "name": "stderr",
          "text": [
            "WARNING:praw:It appears that you are using PRAW in an asynchronous environment.\n",
            "It is strongly recommended to use Async PRAW: https://asyncpraw.readthedocs.io.\n",
            "See https://praw.readthedocs.io/en/latest/getting_started/multiple_instances.html#discord-bots-and-asynchronous-environments for more info.\n",
            "\n"
          ]
        },
        {
          "output_type": "stream",
          "name": "stdout",
          "text": [
            "✅ Scraped post: Opinion: Singapore's immigration is, actually, one of the be... (20 comments)\n"
          ]
        },
        {
          "output_type": "stream",
          "name": "stderr",
          "text": [
            "WARNING:praw:It appears that you are using PRAW in an asynchronous environment.\n",
            "It is strongly recommended to use Async PRAW: https://asyncpraw.readthedocs.io.\n",
            "See https://praw.readthedocs.io/en/latest/getting_started/multiple_instances.html#discord-bots-and-asynchronous-environments for more info.\n",
            "\n"
          ]
        },
        {
          "output_type": "stream",
          "name": "stdout",
          "text": [
            "✅ Scraped post: How do other Singaporeans feel about immigration.... (25 comments)\n"
          ]
        },
        {
          "output_type": "stream",
          "name": "stderr",
          "text": [
            "WARNING:praw:It appears that you are using PRAW in an asynchronous environment.\n",
            "It is strongly recommended to use Async PRAW: https://asyncpraw.readthedocs.io.\n",
            "See https://praw.readthedocs.io/en/latest/getting_started/multiple_instances.html#discord-bots-and-asynchronous-environments for more info.\n",
            "\n"
          ]
        },
        {
          "output_type": "stream",
          "name": "stdout",
          "text": [
            "✅ Scraped post: New citizens enrich Singapore, invigorate economy ‘in ways b... (115 comments)\n",
            "⚠️ Error fetching : An invalid value was specified for id. Check that the argument for the id parameter is not empty.\n",
            "Done! Exported all_posts.csv and all_comments.csv\n"
          ]
        }
      ]
    },
    {
      "cell_type": "code",
      "source": [],
      "metadata": {
        "id": "_C4mLdoezJuL"
      },
      "execution_count": null,
      "outputs": []
    },
    {
      "cell_type": "code",
      "source": [
        "import praw\n",
        "import csv\n",
        "import time\n",
        "\n",
        "#praw setup with my client id and secret\n",
        "#client id and secret have been removed for privacy's sake\n",
        "reddit = praw.Reddit(\n",
        "    client_id=\"0tBiIaijMfAU0c5WlYiaGw\",\n",
        "    client_secret=\"DFlZ8og-ydatsy1Dbtka-hPW01KhVw\",\n",
        "    user_agent=\"keith-immigration-study:v1.0 (by u/yourusername)\"\n",
        ")\n",
        "reddit.read_only = True\n",
        "\n",
        "#4 more reddit threads I am scraping\n",
        "post_urls = [\n",
        "    \"https://www.reddit.com/r/singapore/comments/1hz0dd1/singapore_must_manage_new_arrivals_with_utmost/\",\n",
        "    \"https://www.reddit.com/r/SingaporeRaw/comments/1b34vyq/what_is_up_with_singapores_immigration_policies/\",\n",
        "    \"https://www.reddit.com/r/SingaporeRaw/comments/1l9lca4/why_cant_singapore_import_more_first_world/\",\n",
        "    \"https://www.reddit.com/r/SingaporeRaw/comments/1gb9ztn/make_a_guess_what_of_singapores_population_are/\"\n",
        "    \"\"\n",
        "]\n",
        "\n",
        "all_posts = []\n",
        "all_comments = []\n",
        "\n",
        "#Loop through the different links\n",
        "for url in post_urls:\n",
        "    try:\n",
        "        subm = reddit.submission(url=url)\n",
        "\n",
        "        # Post metadata\n",
        "        post_row = {\n",
        "            \"id\": subm.id,\n",
        "            \"subreddit\": str(subm.subreddit),\n",
        "            \"title\": subm.title,\n",
        "            \"author\": str(subm.author) if subm.author else None,\n",
        "            \"score\": subm.score,\n",
        "            \"selftext\": subm.selftext,\n",
        "            \"num_comments\": subm.num_comments,\n",
        "            \"created_utc\": subm.created_utc,\n",
        "            \"permalink\": \"https://www.reddit.com\" + subm.permalink\n",
        "        }\n",
        "        all_posts.append(post_row)\n",
        "\n",
        "        #Retrieving comments\n",
        "        subm.comments.replace_more(limit=0)\n",
        "        for c in subm.comments.list():\n",
        "            all_comments.append({\n",
        "                \"post_id\": subm.id,\n",
        "                \"comment_id\": c.id,\n",
        "                \"parent_id\": c.parent_id,\n",
        "                \"author\": str(c.author) if c.author else None,\n",
        "                \"score\": c.score,\n",
        "                \"created_utc\": c.created_utc,\n",
        "                \"body\": c.body\n",
        "            })\n",
        "\n",
        "        print(f\"✅ Scraped post: {subm.title[:60]}... ({len(subm.comments)} comments)\")\n",
        "        time.sleep(2)  # polite delay to avoid rate limiting\n",
        "\n",
        "    except Exception as e:\n",
        "        print(f\"⚠️ Error fetching {url}: {e}\")\n",
        "\n",
        "#Importing to CVs\n",
        "if all_posts:\n",
        "    with open(\"all_posts.csv\", \"w\", newline=\"\", encoding=\"utf-8\") as f:\n",
        "        writer = csv.DictWriter(f, fieldnames=all_posts[0].keys())\n",
        "        writer.writeheader()\n",
        "        writer.writerows(all_posts)\n",
        "\n",
        "if all_comments:\n",
        "    with open(\"all_comments.csv\", \"w\", newline=\"\", encoding=\"utf-8\") as f:\n",
        "        writer = csv.DictWriter(f, fieldnames=all_comments[0].keys())\n",
        "        writer.writeheader()\n",
        "        writer.writerows(all_comments)\n",
        "\n",
        "print(\"Done! Exported all_posts.csv and all_comments.csv\")\n"
      ],
      "metadata": {
        "colab": {
          "base_uri": "https://localhost:8080/"
        },
        "outputId": "7fb62110-fe6a-494a-a07a-6d93e077e192",
        "id": "yLQlyHC6zJ9r"
      },
      "execution_count": null,
      "outputs": [
        {
          "output_type": "stream",
          "name": "stderr",
          "text": [
            "WARNING:praw:It appears that you are using PRAW in an asynchronous environment.\n",
            "It is strongly recommended to use Async PRAW: https://asyncpraw.readthedocs.io.\n",
            "See https://praw.readthedocs.io/en/latest/getting_started/multiple_instances.html#discord-bots-and-asynchronous-environments for more info.\n",
            "\n"
          ]
        },
        {
          "output_type": "stream",
          "name": "stdout",
          "text": [
            "✅ Scraped post: Singapore must manage new arrivals with utmost caution, but ... (70 comments)\n"
          ]
        },
        {
          "output_type": "stream",
          "name": "stderr",
          "text": [
            "WARNING:praw:It appears that you are using PRAW in an asynchronous environment.\n",
            "It is strongly recommended to use Async PRAW: https://asyncpraw.readthedocs.io.\n",
            "See https://praw.readthedocs.io/en/latest/getting_started/multiple_instances.html#discord-bots-and-asynchronous-environments for more info.\n",
            "\n"
          ]
        },
        {
          "output_type": "stream",
          "name": "stdout",
          "text": [
            "✅ Scraped post: What is up with Singapore's immigration policies?... (21 comments)\n"
          ]
        },
        {
          "output_type": "stream",
          "name": "stderr",
          "text": [
            "WARNING:praw:It appears that you are using PRAW in an asynchronous environment.\n",
            "It is strongly recommended to use Async PRAW: https://asyncpraw.readthedocs.io.\n",
            "See https://praw.readthedocs.io/en/latest/getting_started/multiple_instances.html#discord-bots-and-asynchronous-environments for more info.\n",
            "\n"
          ]
        },
        {
          "output_type": "stream",
          "name": "stdout",
          "text": [
            "✅ Scraped post: Why can't singapore import more first world migrants? Our me... (42 comments)\n"
          ]
        },
        {
          "output_type": "stream",
          "name": "stderr",
          "text": [
            "WARNING:praw:It appears that you are using PRAW in an asynchronous environment.\n",
            "It is strongly recommended to use Async PRAW: https://asyncpraw.readthedocs.io.\n",
            "See https://praw.readthedocs.io/en/latest/getting_started/multiple_instances.html#discord-bots-and-asynchronous-environments for more info.\n",
            "\n"
          ]
        },
        {
          "output_type": "stream",
          "name": "stdout",
          "text": [
            "✅ Scraped post: Make a guess what % of Singapore's population are immigrants... (13 comments)\n",
            "Done! Exported all_posts.csv and all_comments.csv\n"
          ]
        }
      ]
    }
  ]
}