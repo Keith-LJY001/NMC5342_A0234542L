{
  "nbformat": 4,
  "nbformat_minor": 0,
  "metadata": {
    "colab": {
      "provenance": [],
      "authorship_tag": "ABX9TyMj46Tv9IC/kZnHVxhahyJZ",
      "include_colab_link": true
    },
    "kernelspec": {
      "name": "python3",
      "display_name": "Python 3"
    },
    "language_info": {
      "name": "python"
    }
  },
  "cells": [
    {
      "cell_type": "markdown",
      "metadata": {
        "id": "view-in-github",
        "colab_type": "text"
      },
      "source": [
        "<a href=\"https://colab.research.google.com/github/Keith-LJY001/NMC5342_A0234542L/blob/main/NMC5342_A0234542L.ipynb\" target=\"_parent\"><img src=\"https://colab.research.google.com/assets/colab-badge.svg\" alt=\"Open In Colab\"/></a>"
      ]
    },
    {
      "cell_type": "code",
      "source": [
        "#Loop and control flow task"
      ],
      "metadata": {
        "id": "Ia6AkOgxJ7vj"
      },
      "execution_count": null,
      "outputs": []
    },
    {
      "cell_type": "code",
      "execution_count": null,
      "metadata": {
        "colab": {
          "base_uri": "https://localhost:8080/"
        },
        "id": "qochN6J23UhE",
        "outputId": "a36e0372-c5d3-4c73-ff8f-193e5909efbf"
      },
      "outputs": [
        {
          "output_type": "stream",
          "name": "stdout",
          "text": [
            "Python is so hard!\n",
            "NUS Master's is expensive!\n",
            "I love NUS!\n"
          ]
        }
      ],
      "source": [
        "##list of short sentences\n",
        "sentences = [\"Python is so hard!\", \"NUS Master's is expensive!\", \"I love NUS!\"]\n",
        "\n",
        "##loop through each sentence and print each sentence\n",
        "for x in sentences:\n",
        "  print(x)"
      ]
    },
    {
      "cell_type": "code",
      "source": [
        "##Count and print the number of words using .split().\n",
        "sentences = [\"Python is so hard!\", \"NUS Master's is expensive!\", \"I love NUS!\"]\n",
        "\n",
        "number_words = 0\n",
        "for s in sentences:\n",
        "    words = s.split()\n",
        "    number_words += len(words)\n",
        "\n",
        "print(number_words)"
      ],
      "metadata": {
        "colab": {
          "base_uri": "https://localhost:8080/"
        },
        "id": "Yteot1FW4yu7",
        "outputId": "9450fe3b-2c09-43b7-ad10-427409b1e3e6"
      },
      "execution_count": null,
      "outputs": [
        {
          "output_type": "stream",
          "name": "stdout",
          "text": [
            "11\n"
          ]
        }
      ]
    },
    {
      "cell_type": "code",
      "source": [
        "##Checks whether the sentence contains the word \"Python\"\n",
        "\n",
        "for s in sentences:\n",
        "  if \"python\" in s.lower():\n",
        "    print(\"Yes, contains.\")\n",
        "  else:\n",
        "    print(\"No, does not contain.\")"
      ],
      "metadata": {
        "colab": {
          "base_uri": "https://localhost:8080/"
        },
        "id": "cTzW9JsI5nXi",
        "outputId": "86df1294-cc50-4049-cd3f-3ded2334d68c"
      },
      "execution_count": 27,
      "outputs": [
        {
          "output_type": "stream",
          "name": "stdout",
          "text": [
            "Yes, contains.\n",
            "No, does not contain.\n",
            "No, does not contain.\n"
          ]
        }
      ]
    },
    {
      "cell_type": "code",
      "source": [
        "#Function Task"
      ],
      "metadata": {
        "id": "iGDBunEaL0w7"
      },
      "execution_count": 28,
      "outputs": []
    },
    {
      "cell_type": "code",
      "source": [
        "#first, import re for regular expressions\n",
        "import re\n",
        "\n",
        "# Use re.findall() to find hashtags or mentions in the text\n",
        "def find_stuff(text):\n",
        "  stuff = re.findall(r\"#\\w+|@\\w+\", text)\n",
        "\n",
        "#return the 'stuff', which are hashtags and mentions\n",
        "  return stuff\n",
        "\n",
        "#using the function\n",
        "print(find_stuff(\"I love #AI and @OpenSource!\"))"
      ],
      "metadata": {
        "colab": {
          "base_uri": "https://localhost:8080/"
        },
        "id": "zqRjHCVYL3YS",
        "outputId": "f295aab1-ca9d-40ba-a5ca-971c6dea9c4f"
      },
      "execution_count": 33,
      "outputs": [
        {
          "output_type": "stream",
          "name": "stdout",
          "text": [
            "['#AI', '@OpenSource']\n"
          ]
        }
      ]
    },
    {
      "cell_type": "code",
      "source": [],
      "metadata": {
        "id": "ukvxL4bpN97u"
      },
      "execution_count": null,
      "outputs": []
    }
  ]
}